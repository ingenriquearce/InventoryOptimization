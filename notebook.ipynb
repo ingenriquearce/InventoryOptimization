{
  "cells": [
    {
      "cell_type": "markdown",
      "metadata": {
        "id": "ltYtwL4VvSoG"
      },
      "source": [
        "# Final Project | Data Engineering Bootcamp | Enrique Arce"
      ]
    },
    {
      "cell_type": "markdown",
      "metadata": {
        "id": "5zRvy8d8nTDH"
      },
      "source": [
        "## 1. Generative AI Data"
      ]
    },
    {
      "cell_type": "markdown",
      "metadata": {
        "id": "FwpH9FJVvFcj"
      },
      "source": [
        "### Import Libraries and Faker"
      ]
    },
    {
      "cell_type": "code",
      "execution_count": null,
      "metadata": {
        "colab": {
          "base_uri": "https://localhost:8080/"
        },
        "id": "4b3PPg3HnhU8",
        "outputId": "980f089d-1b7f-425e-e8b7-f866babc70ed"
      },
      "outputs": [
        {
          "output_type": "stream",
          "name": "stdout",
          "text": [
            "Requirement already satisfied: faker in /usr/local/lib/python3.11/dist-packages (37.1.0)\n",
            "Requirement already satisfied: tzdata in /usr/local/lib/python3.11/dist-packages (from faker) (2025.1)\n"
          ]
        }
      ],
      "source": [
        "!pip install faker"
      ]
    },
    {
      "cell_type": "code",
      "execution_count": null,
      "metadata": {
        "id": "nRPTwYeNnRwX"
      },
      "outputs": [],
      "source": [
        "import faker\n",
        "import pandas as pd\n",
        "import random\n",
        "from datetime import datetime, timedelta\n",
        "from pyspark.sql import SparkSession\n",
        "from datetime import datetime\n",
        "\n",
        "# Initializing faker\n",
        "fake = faker.Faker()\n",
        "\n",
        "#Creating Spark Sesion\n",
        "spark = SparkSession.builder.appName(\"SalesGeneration\").getOrCreate()"
      ]
    },
    {
      "cell_type": "markdown",
      "metadata": {
        "id": "49fYtqZUobG1"
      },
      "source": [
        "### 1. Products\n",
        "\n"
      ]
    },
    {
      "cell_type": "code",
      "execution_count": null,
      "metadata": {
        "id": "bY8Y8nfMOxov"
      },
      "outputs": [],
      "source": [
        "# Settings of products' categories\n",
        "categories = {\"Electronics\": 10, \"Clothing\": 8, \"Home & Kitchen\": 9, \"Sports\": 11, \"Books\": 12}\n",
        "total_products = sum(categories.values())"
      ]
    },
    {
      "cell_type": "code",
      "execution_count": null,
      "metadata": {
        "colab": {
          "base_uri": "https://localhost:8080/"
        },
        "id": "LqVU2LhvohTe",
        "outputId": "aa57c09d-0930-4f9e-cddf-7dcd53501caa"
      },
      "outputs": [
        {
          "output_type": "stream",
          "name": "stdout",
          "text": [
            "  product_id                       name     category   price\n",
            "0      P-001  Apple Wireless Headphones  Electronics   513.5\n",
            "1      P-002              Adidas Tablet  Electronics   774.5\n",
            "2      P-003          Adidas Smartwatch  Electronics  2316.3\n",
            "3      P-004               Canon Laptop  Electronics  4081.7\n",
            "4      P-005               Canon Tablet  Electronics   752.5\n"
          ]
        }
      ],
      "source": [
        "categories = {\n",
        "    \"Electronics\": 10,\n",
        "    \"Clothing\": 8,\n",
        "    \"Home & Kitchen\": 9,\n",
        "    \"Sports\": 11,\n",
        "    \"Books\": 12\n",
        "}\n",
        "\n",
        "price_ranges = {\n",
        "    \"Electronics\": (500, 4500),\n",
        "    \"Clothing\": (10, 300),\n",
        "    \"Home & Kitchen\": (50, 1000),\n",
        "    \"Sports\": (20, 1500),\n",
        "    \"Books\": (5, 100)\n",
        "}\n",
        "\n",
        "brand_names = [\"Samsung\", \"Nike\", \"IKEA\", \"Wilson\", \"Sony\", \"Apple\", \"Adidas\", \"Philips\", \"Reebok\", \"Canon\"]\n",
        "product_types = {\n",
        "    \"Electronics\": [\"Smartphone\", \"Wireless Headphones\", \"Laptop\", \"Tablet\", \"Smartwatch\"],\n",
        "    \"Clothing\": [\"Running Shoes\", \"Sports Jacket\", \"Casual T-Shirt\", \"Denim Jeans\", \"Winter Coat\"],\n",
        "    \"Home & Kitchen\": [\"Wooden Table\", \"Air Fryer\", \"Blender\", \"Coffee Maker\", \"Microwave Oven\"],\n",
        "    \"Sports\": [\"Tennis Racket\", \"Football\", \"Basketball\", \"Training Shorts\", \"Gym Gloves\"],\n",
        "    \"Books\": [\"Mystery Novel\", \"Self-Help Guide\", \"Science Fiction Book\", \"Biography\", \"Cooking Recipe Book\"]\n",
        "}\n",
        "\n",
        "products = []\n",
        "product_id_counter = 1\n",
        "\n",
        "for category, count in categories.items():\n",
        "    for _ in range(count):\n",
        "        product_id = f\"P-{product_id_counter:03d}\"\n",
        "        product_id_counter += 1\n",
        "        brand = random.choice(brand_names)\n",
        "        product_name = f\"{brand} {random.choice(product_types[category])}\"\n",
        "        price = round(random.uniform(*price_ranges[category]), 1)\n",
        "\n",
        "        products.append({\n",
        "            \"product_id\": product_id,\n",
        "            \"name\": product_name,\n",
        "            \"category\": category,\n",
        "            \"price\": price\n",
        "        })\n",
        "\n",
        "products_df = pd.DataFrame(products)\n",
        "products_df.to_csv(\"products.csv\", index=False)\n",
        "\n",
        "print(products_df.head())"
      ]
    },
    {
      "cell_type": "markdown",
      "metadata": {
        "id": "6PK5oU-pvpR1"
      },
      "source": [
        "### 2. Customers\n",
        "\n"
      ]
    },
    {
      "cell_type": "code",
      "execution_count": null,
      "metadata": {
        "colab": {
          "base_uri": "https://localhost:8080/"
        },
        "id": "H_iUEs8Xvx1_",
        "outputId": "4396b315-fee1-4694-c0d7-7c40be2be132"
      },
      "outputs": [
        {
          "output_type": "stream",
          "name": "stdout",
          "text": [
            "   customer_id               name                          email signup_date  \\\n",
            "0       753666  Rebekah Carpenter  rebekah.carpenter@hotmail.com  2022-10-03   \n",
            "1       884739        Kellie Khan          kellie.khan@yahoo.com  2023-04-02   \n",
            "2       327684       Miguel Tapia       miguel.tapia@hotmail.com  2025-03-17   \n",
            "3       327690        Mary Rivera          mary.rivera@gmail.com  2021-09-09   \n",
            "4       262155     Robert Griffin       robert.griffin@yahoo.com  2020-09-26   \n",
            "\n",
            "       region       city  \n",
            "0      La Paz  Achocalla  \n",
            "1      La Paz     La Paz  \n",
            "2  Santa Cruz     Warnes  \n",
            "3      La Paz  Achocalla  \n",
            "4      La Paz     La Paz  \n"
          ]
        }
      ],
      "source": [
        "num_customers = 13543\n",
        "\n",
        "\n",
        "region_city_mapping = {\n",
        "    \"Santa Cruz\": [\"Santa Cruz de la Sierra\", \"Montero\", \"Warnes\"],\n",
        "    \"La Paz\": [\"La Paz\", \"El Alto\", \"Achocalla\"],\n",
        "    \"Cochabamba\": [\"Cochabamba\", \"Quillacollo\", \"Sacaba\"]\n",
        "}\n",
        "\n",
        "region_weights = {\"Santa Cruz\": 0.37, \"La Paz\": 0.32, \"Cochabamba\": 0.31}\n",
        "\n",
        "# IDs\n",
        "customer_ids = set()\n",
        "while len(customer_ids) < num_customers:\n",
        "    customer_ids.add(fake.unique.random_number(digits=6, fix_len=True))\n",
        "customer_ids = list(customer_ids)\n",
        "\n",
        "\n",
        "customers = []\n",
        "for customer_id in customer_ids:\n",
        "    name = fake.name()\n",
        "    first_name, last_name = name.split()[:2]  # Tomamos los primeros dos nombres\n",
        "    email = f\"{first_name.lower()}.{last_name.lower()}@{fake.free_email_domain()}\"\n",
        "\n",
        "    region = random.choices(list(region_weights.keys()), weights=region_weights.values(), k=1)[0]\n",
        "    city = random.choice(region_city_mapping[region])\n",
        "\n",
        "    customers.append({\n",
        "        \"customer_id\": customer_id,\n",
        "        \"name\": name,\n",
        "        \"email\": email,\n",
        "        \"signup_date\": fake.date_between(start_date=\"-5y\", end_date=\"today\"),\n",
        "        \"region\": region,\n",
        "        \"city\": city\n",
        "    })\n",
        "\n",
        "\n",
        "customers_df = pd.DataFrame(customers)\n",
        "customers_df.to_csv(\"customers.csv\", index=False)\n",
        "print(customers_df.head())"
      ]
    },
    {
      "cell_type": "markdown",
      "metadata": {
        "id": "S39cZHiIwIM9"
      },
      "source": [
        "### 3. Sales"
      ]
    },
    {
      "cell_type": "code",
      "execution_count": null,
      "metadata": {
        "colab": {
          "base_uri": "https://localhost:8080/"
        },
        "id": "uE2xGSSCw329",
        "outputId": "3e0ea968-57fc-4f3e-c407-3c18464e4f0b"
      },
      "outputs": [
        {
          "output_type": "stream",
          "name": "stdout",
          "text": [
            "     sale_id  store_id product_id  customer_id  quantity   sale_date\n",
            "0  961677193    802779      P-027       726948         2  2020-06-08\n",
            "1  323017237    941256      P-021       413831         4  2025-02-10\n",
            "2  693795100    612044      P-041       907065         5  2022-07-13\n",
            "3  500816712    675245      P-001       107894         2  2020-11-29\n",
            "4  557407685    353247      P-032       491512         1  2020-05-01\n"
          ]
        }
      ],
      "source": [
        "\n",
        "store_ids = set()\n",
        "while len(store_ids) < 500:\n",
        "    store_ids.add(fake.unique.random_number(digits=6, fix_len=True))\n",
        "store_ids = list(store_ids)\n",
        "\n",
        "# -------------------------------SALES----------------------------------\n",
        "num_sales = 936297\n",
        "\n",
        "\n",
        "region_weights = {\"Santa Cruz\": 0.37, \"La Paz\": 0.32, \"Cochabamba\": 0.31}\n",
        "sales_per_region = {region: int(num_sales * weight) for region, weight in region_weights.items()}\n",
        "\n",
        "popular_products = {region: products_df[\"product_id\"].tolist() for region in region_weights}\n",
        "all_products = products_df[\"product_id\"].tolist()\n",
        "\n",
        "\n",
        "stores_per_region = {region: random.sample(store_ids, k=int(500 * region_weights[region])) for region in region_weights}\n",
        "\n",
        "\n",
        "sales = []\n",
        "\n",
        "for region, num_sales_region in sales_per_region.items():\n",
        "    region_customers = customers_df[customers_df[\"region\"] == region][[\"customer_id\"]]\n",
        "\n",
        "    for _ in range(num_sales_region):\n",
        "        sale_id = fake.unique.random_number(digits=9, fix_len=True)\n",
        "\n",
        "        customer_id = region_customers.sample(1).iloc[0][\"customer_id\"]\n",
        "\n",
        "\n",
        "        store_id = random.choice(stores_per_region[region])\n",
        "\n",
        "\n",
        "        product_id = random.choice(popular_products[region]) if random.random() < 0.7 else random.choice(all_products)\n",
        "\n",
        "        quantity = random.randint(1, 5)\n",
        "        sale_date = fake.date_between(start_date=\"-5y\", end_date=\"today\")\n",
        "\n",
        "        sales.append({\n",
        "            \"sale_id\": sale_id,\n",
        "            \"store_id\": store_id,\n",
        "            \"product_id\": product_id,\n",
        "            \"customer_id\": customer_id,\n",
        "            \"quantity\": quantity,\n",
        "            \"sale_date\": sale_date\n",
        "        })\n",
        "\n",
        "sales_df = pd.DataFrame(sales)\n",
        "sales_df.to_csv(\"sales.csv\", index=False)\n",
        "\n",
        "print(sales_df.head())"
      ]
    },
    {
      "cell_type": "markdown",
      "metadata": {
        "id": "j8bYuqavRCHx"
      },
      "source": [
        "### 4. Stores\n"
      ]
    },
    {
      "cell_type": "code",
      "execution_count": null,
      "metadata": {
        "colab": {
          "base_uri": "https://localhost:8080/"
        },
        "id": "GcFKP7N4RGuH",
        "outputId": "ed8ecabf-bd3c-4f9a-8ad2-b31672db5412"
      },
      "outputs": [
        {
          "output_type": "stream",
          "name": "stdout",
          "text": [
            "Total de tiendas únicas: 500\n",
            "   store_id         city      region\n",
            "0    669698    Achocalla      La Paz\n",
            "1    264194      Montero  Santa Cruz\n",
            "2    710660  Quillacollo  Cochabamba\n",
            "3    591883      Montero  Santa Cruz\n",
            "4    380945      Montero  Santa Cruz\n"
          ]
        }
      ],
      "source": [
        "\n",
        "region_city_mapping = {\n",
        "    \"Santa Cruz\": [\"Santa Cruz de la Sierra\", \"Montero\", \"Warnes\"],\n",
        "    \"La Paz\": [\"La Paz\", \"El Alto\", \"Achocalla\"],\n",
        "    \"Cochabamba\": [\"Cochabamba\", \"Quillacollo\", \"Sacaba\"]\n",
        "}\n",
        "\n",
        "\n",
        "lead_time_mapping = {\n",
        "    \"Santa Cruz\": random.randint(2, 5),\n",
        "    \"La Paz\": random.randint(3, 7),\n",
        "    \"Cochabamba\": random.randint(4, 6)\n",
        "}\n",
        "\n",
        "stores = []\n",
        "used_store_ids = set()\n",
        "\n",
        "for store_id in store_ids:\n",
        "    if store_id in used_store_ids:\n",
        "        continue\n",
        "\n",
        "    region = random.choice(list(region_city_mapping.keys()))\n",
        "    city = random.choice(region_city_mapping[region])\n",
        "\n",
        "    stores.append({\n",
        "        \"store_id\": store_id,\n",
        "        \"city\": city,\n",
        "        \"region\": region\n",
        "    })\n",
        "\n",
        "    used_store_ids.add(store_id)\n",
        "\n",
        "stores_df = pd.DataFrame(stores)\n",
        "stores_df.to_csv(\"stores.csv\", index=False)\n",
        "\n",
        "\n",
        "print(f\"Total de tiendas únicas: {stores_df['store_id'].nunique()}\")\n",
        "\n",
        "print(stores_df.head())"
      ]
    },
    {
      "cell_type": "markdown",
      "source": [
        "### 5. Stocks"
      ],
      "metadata": {
        "id": "ALnzzVOdJDXx"
      }
    },
    {
      "cell_type": "code",
      "source": [
        "\n",
        "low_stock_threshold = 10\n",
        "\n",
        "\n",
        "product_sales_counts = sales_df[\"product_id\"].value_counts().to_dict()\n",
        "\n",
        "\n",
        "stocks = []\n",
        "stock_id_counter = 1\n",
        "\n",
        "for store_id in store_ids:\n",
        "    for product_id in products_df[\"product_id\"]:\n",
        "        base_stock = min(product_sales_counts.get(product_id, 5), 200)\n",
        "        stock_level = int(base_stock * random.uniform(1.2, 6.0))\n",
        "\n",
        "        stock_level = max(120, min(600, stock_level))\n",
        "\n",
        "        stocks.append({\n",
        "            \"stock_id\": stock_id_counter,\n",
        "            \"store_id\": store_id,\n",
        "            \"product_id\": product_id,\n",
        "            \"stock_level\": stock_level,\n",
        "            \"low_stock_alert\": 1 if stock_level < low_stock_threshold else 0\n",
        "        })\n",
        "\n",
        "        stock_id_counter += 1\n",
        "\n",
        "\n",
        "stocks_df = pd.DataFrame(stocks)\n",
        "stocks_df.to_csv(\"stocks.csv\", index=False)\n",
        "\n",
        "\n",
        "print(f\"Total de registros en Stocks: {stocks_df.shape[0]}\")\n",
        "print(f\"Total de stock_id únicos: {stocks_df['stock_id'].nunique()}\")\n",
        "print(stocks_df.head())"
      ],
      "metadata": {
        "colab": {
          "base_uri": "https://localhost:8080/"
        },
        "id": "gfqTv5uXJGXY",
        "outputId": "330fe1c6-687b-41b2-fb59-33b959786656"
      },
      "execution_count": null,
      "outputs": [
        {
          "output_type": "stream",
          "name": "stdout",
          "text": [
            "Total de registros en Stocks: 25000\n",
            "Total de stock_id únicos: 25000\n",
            "   stock_id  store_id product_id  stock_level  low_stock_alert\n",
            "0         1    669698      P-001          600                0\n",
            "1         2    669698      P-002          600                0\n",
            "2         3    669698      P-003          600                0\n",
            "3         4    669698      P-004          600                0\n",
            "4         5    669698      P-005          600                0\n"
          ]
        }
      ]
    },
    {
      "cell_type": "markdown",
      "source": [
        "## 2. Streaming system to input data"
      ],
      "metadata": {
        "id": "OkR7Utua-Wj6"
      }
    },
    {
      "cell_type": "markdown",
      "source": [
        "### Instaling the GCP&S service"
      ],
      "metadata": {
        "id": "M-NRLJO-T41t"
      }
    },
    {
      "cell_type": "code",
      "source": [
        "!pip install google-cloud-pubsub"
      ],
      "metadata": {
        "colab": {
          "base_uri": "https://localhost:8080/"
        },
        "id": "-5_mKvaw-lmM",
        "outputId": "257475ad-67a1-43cd-d538-232728f03763"
      },
      "execution_count": null,
      "outputs": [
        {
          "output_type": "stream",
          "name": "stdout",
          "text": [
            "Requirement already satisfied: google-cloud-pubsub in /usr/local/lib/python3.11/dist-packages (2.29.0)\n",
            "Requirement already satisfied: grpcio<2.0.0,>=1.51.3 in /usr/local/lib/python3.11/dist-packages (from google-cloud-pubsub) (1.71.0)\n",
            "Requirement already satisfied: google-auth<3.0.0,>=2.14.1 in /usr/local/lib/python3.11/dist-packages (from google-cloud-pubsub) (2.38.0)\n",
            "Requirement already satisfied: google-api-core!=2.0.*,!=2.1.*,!=2.10.*,!=2.2.*,!=2.3.*,!=2.4.*,!=2.5.*,!=2.6.*,!=2.7.*,!=2.8.*,!=2.9.*,<3.0.0,>=1.34.0 in /usr/local/lib/python3.11/dist-packages (from google-api-core[grpc]!=2.0.*,!=2.1.*,!=2.10.*,!=2.2.*,!=2.3.*,!=2.4.*,!=2.5.*,!=2.6.*,!=2.7.*,!=2.8.*,!=2.9.*,<3.0.0,>=1.34.0->google-cloud-pubsub) (2.24.2)\n",
            "Requirement already satisfied: proto-plus<2.0.0,>=1.22.0 in /usr/local/lib/python3.11/dist-packages (from google-cloud-pubsub) (1.26.1)\n",
            "Requirement already satisfied: protobuf!=4.21.0,!=4.21.1,!=4.21.2,!=4.21.3,!=4.21.4,!=4.21.5,<7.0.0,>=3.20.2 in /usr/local/lib/python3.11/dist-packages (from google-cloud-pubsub) (5.29.4)\n",
            "Requirement already satisfied: grpc-google-iam-v1<1.0.0,>=0.12.4 in /usr/local/lib/python3.11/dist-packages (from google-cloud-pubsub) (0.14.2)\n",
            "Requirement already satisfied: grpcio-status>=1.33.2 in /usr/local/lib/python3.11/dist-packages (from google-cloud-pubsub) (1.71.0)\n",
            "Requirement already satisfied: opentelemetry-api>=1.27.0 in /usr/local/lib/python3.11/dist-packages (from google-cloud-pubsub) (1.31.1)\n",
            "Requirement already satisfied: opentelemetry-sdk>=1.27.0 in /usr/local/lib/python3.11/dist-packages (from google-cloud-pubsub) (1.31.1)\n",
            "Requirement already satisfied: googleapis-common-protos<2.0.0,>=1.56.2 in /usr/local/lib/python3.11/dist-packages (from google-api-core!=2.0.*,!=2.1.*,!=2.10.*,!=2.2.*,!=2.3.*,!=2.4.*,!=2.5.*,!=2.6.*,!=2.7.*,!=2.8.*,!=2.9.*,<3.0.0,>=1.34.0->google-api-core[grpc]!=2.0.*,!=2.1.*,!=2.10.*,!=2.2.*,!=2.3.*,!=2.4.*,!=2.5.*,!=2.6.*,!=2.7.*,!=2.8.*,!=2.9.*,<3.0.0,>=1.34.0->google-cloud-pubsub) (1.69.2)\n",
            "Requirement already satisfied: requests<3.0.0,>=2.18.0 in /usr/local/lib/python3.11/dist-packages (from google-api-core!=2.0.*,!=2.1.*,!=2.10.*,!=2.2.*,!=2.3.*,!=2.4.*,!=2.5.*,!=2.6.*,!=2.7.*,!=2.8.*,!=2.9.*,<3.0.0,>=1.34.0->google-api-core[grpc]!=2.0.*,!=2.1.*,!=2.10.*,!=2.2.*,!=2.3.*,!=2.4.*,!=2.5.*,!=2.6.*,!=2.7.*,!=2.8.*,!=2.9.*,<3.0.0,>=1.34.0->google-cloud-pubsub) (2.32.3)\n",
            "Requirement already satisfied: cachetools<6.0,>=2.0.0 in /usr/local/lib/python3.11/dist-packages (from google-auth<3.0.0,>=2.14.1->google-cloud-pubsub) (5.5.2)\n",
            "Requirement already satisfied: pyasn1-modules>=0.2.1 in /usr/local/lib/python3.11/dist-packages (from google-auth<3.0.0,>=2.14.1->google-cloud-pubsub) (0.4.1)\n",
            "Requirement already satisfied: rsa<5,>=3.1.4 in /usr/local/lib/python3.11/dist-packages (from google-auth<3.0.0,>=2.14.1->google-cloud-pubsub) (4.9)\n",
            "Requirement already satisfied: deprecated>=1.2.6 in /usr/local/lib/python3.11/dist-packages (from opentelemetry-api>=1.27.0->google-cloud-pubsub) (1.2.18)\n",
            "Requirement already satisfied: importlib-metadata<8.7.0,>=6.0 in /usr/local/lib/python3.11/dist-packages (from opentelemetry-api>=1.27.0->google-cloud-pubsub) (8.6.1)\n",
            "Requirement already satisfied: opentelemetry-semantic-conventions==0.52b1 in /usr/local/lib/python3.11/dist-packages (from opentelemetry-sdk>=1.27.0->google-cloud-pubsub) (0.52b1)\n",
            "Requirement already satisfied: typing-extensions>=3.7.4 in /usr/local/lib/python3.11/dist-packages (from opentelemetry-sdk>=1.27.0->google-cloud-pubsub) (4.12.2)\n",
            "Requirement already satisfied: wrapt<2,>=1.10 in /usr/local/lib/python3.11/dist-packages (from deprecated>=1.2.6->opentelemetry-api>=1.27.0->google-cloud-pubsub) (1.17.2)\n",
            "Requirement already satisfied: zipp>=3.20 in /usr/local/lib/python3.11/dist-packages (from importlib-metadata<8.7.0,>=6.0->opentelemetry-api>=1.27.0->google-cloud-pubsub) (3.21.0)\n",
            "Requirement already satisfied: pyasn1<0.7.0,>=0.4.6 in /usr/local/lib/python3.11/dist-packages (from pyasn1-modules>=0.2.1->google-auth<3.0.0,>=2.14.1->google-cloud-pubsub) (0.6.1)\n",
            "Requirement already satisfied: charset-normalizer<4,>=2 in /usr/local/lib/python3.11/dist-packages (from requests<3.0.0,>=2.18.0->google-api-core!=2.0.*,!=2.1.*,!=2.10.*,!=2.2.*,!=2.3.*,!=2.4.*,!=2.5.*,!=2.6.*,!=2.7.*,!=2.8.*,!=2.9.*,<3.0.0,>=1.34.0->google-api-core[grpc]!=2.0.*,!=2.1.*,!=2.10.*,!=2.2.*,!=2.3.*,!=2.4.*,!=2.5.*,!=2.6.*,!=2.7.*,!=2.8.*,!=2.9.*,<3.0.0,>=1.34.0->google-cloud-pubsub) (3.4.1)\n",
            "Requirement already satisfied: idna<4,>=2.5 in /usr/local/lib/python3.11/dist-packages (from requests<3.0.0,>=2.18.0->google-api-core!=2.0.*,!=2.1.*,!=2.10.*,!=2.2.*,!=2.3.*,!=2.4.*,!=2.5.*,!=2.6.*,!=2.7.*,!=2.8.*,!=2.9.*,<3.0.0,>=1.34.0->google-api-core[grpc]!=2.0.*,!=2.1.*,!=2.10.*,!=2.2.*,!=2.3.*,!=2.4.*,!=2.5.*,!=2.6.*,!=2.7.*,!=2.8.*,!=2.9.*,<3.0.0,>=1.34.0->google-cloud-pubsub) (3.10)\n",
            "Requirement already satisfied: urllib3<3,>=1.21.1 in /usr/local/lib/python3.11/dist-packages (from requests<3.0.0,>=2.18.0->google-api-core!=2.0.*,!=2.1.*,!=2.10.*,!=2.2.*,!=2.3.*,!=2.4.*,!=2.5.*,!=2.6.*,!=2.7.*,!=2.8.*,!=2.9.*,<3.0.0,>=1.34.0->google-api-core[grpc]!=2.0.*,!=2.1.*,!=2.10.*,!=2.2.*,!=2.3.*,!=2.4.*,!=2.5.*,!=2.6.*,!=2.7.*,!=2.8.*,!=2.9.*,<3.0.0,>=1.34.0->google-cloud-pubsub) (2.3.0)\n",
            "Requirement already satisfied: certifi>=2017.4.17 in /usr/local/lib/python3.11/dist-packages (from requests<3.0.0,>=2.18.0->google-api-core!=2.0.*,!=2.1.*,!=2.10.*,!=2.2.*,!=2.3.*,!=2.4.*,!=2.5.*,!=2.6.*,!=2.7.*,!=2.8.*,!=2.9.*,<3.0.0,>=1.34.0->google-api-core[grpc]!=2.0.*,!=2.1.*,!=2.10.*,!=2.2.*,!=2.3.*,!=2.4.*,!=2.5.*,!=2.6.*,!=2.7.*,!=2.8.*,!=2.9.*,<3.0.0,>=1.34.0->google-cloud-pubsub) (2025.1.31)\n"
          ]
        }
      ]
    },
    {
      "cell_type": "markdown",
      "source": [
        "### User authentication for COLAB in GCP environment"
      ],
      "metadata": {
        "id": "okRF3Mbj-pm1"
      }
    },
    {
      "cell_type": "code",
      "source": [
        "import os\n",
        "from google.oauth2 import service_account\n",
        "from google.cloud import pubsub_v1\n",
        "\n",
        "\n",
        "key_path = \"/content/inventoryoptimization-455112-946c0b30b97c.json\"\n",
        "\n",
        "os.environ[\"GOOGLE_APPLICATION_CREDENTIALS\"] = key_path\n",
        "\n",
        "credentials = service_account.Credentials.from_service_account_file(key_path)\n",
        "print(\"Autenticado correctamente como:\", credentials.service_account_email)\n"
      ],
      "metadata": {
        "colab": {
          "base_uri": "https://localhost:8080/"
        },
        "id": "Q6_rFIBcB9mm",
        "outputId": "68f2d755-1a7e-434d-e06a-b139101e7d22"
      },
      "execution_count": 1,
      "outputs": [
        {
          "output_type": "stream",
          "name": "stdout",
          "text": [
            "Autenticado correctamente como: colab-35@inventoryoptimization-455112.iam.gserviceaccount.com\n"
          ]
        }
      ]
    },
    {
      "cell_type": "markdown",
      "source": [
        "### Envío de mensaje PUB/SUB"
      ],
      "metadata": {
        "id": "kcWEOJqT-wz9"
      }
    },
    {
      "cell_type": "code",
      "source": [
        "from google.cloud import pubsub_v1, bigquery\n",
        "import json\n",
        "from datetime import datetime\n",
        "import random\n",
        "\n",
        "# Settiings\n",
        "project_id = \"inventoryoptimization-455112\"\n",
        "topic_id = \"sales-topic\"\n",
        "dataset_id = \"optimization_Inventory\"\n",
        "sales_table = \"fact_sales\"\n",
        "products_table = \"dim_products\"\n",
        "\n",
        "publisher = pubsub_v1.PublisherClient()\n",
        "topic_path = publisher.topic_path(project_id, topic_id)\n",
        "bq_client = bigquery.Client()\n",
        "\n",
        "\n",
        "query = f\"SELECT sale_id FROM `{project_id}.{dataset_id}.{sales_table}`\"\n",
        "existing_sales = {row.sale_id for row in bq_client.query(query)}\n",
        "\n",
        "while True:\n",
        "    sale_id = random.randint(100000, 999999)\n",
        "    if sale_id not in existing_sales:\n",
        "        break\n",
        "\n",
        "product_id = \"P-002\"\n",
        "quantity = 100\n",
        "\n",
        "query_price = f\"\"\"\n",
        "SELECT price\n",
        "FROM `{project_id}.{dataset_id}.{products_table}`\n",
        "WHERE product_id = '{product_id}'\n",
        "\"\"\"\n",
        "price_result = bq_client.query(query_price).result()\n",
        "price = next(iter(price_result), None)\n",
        "\n",
        "if price:\n",
        "    total_sale_value = quantity * price.price\n",
        "else:\n",
        "    raise ValueError(f\"❌ No se encontró precio para el producto {product_id}\")\n",
        "\n",
        "\n",
        "sale_event = {\n",
        "    \"sale_id\": sale_id,\n",
        "    \"store_id\": 931781,\n",
        "    \"product_id\": product_id,\n",
        "    \"customer_id\": 350611,\n",
        "    \"quantity\": quantity,\n",
        "    \"sale_date\": \"2025-03-31\",\n",
        "    \"total_sale_value\": total_sale_value\n",
        "}\n",
        "\n",
        "\n",
        "message_data = json.dumps(sale_event).encode(\"utf-8\")\n",
        "future = publisher.publish(topic_path, message_data)\n",
        "message_id = future.result()\n",
        "\n",
        "print(f\"✅ Mensaje enviado con ID: {message_id}\")\n",
        "print(f\"📤 Datos enviados:\\n{json.dumps(sale_event, indent=2)}\")"
      ],
      "metadata": {
        "colab": {
          "base_uri": "https://localhost:8080/"
        },
        "id": "x7C-7DU5Zq8v",
        "outputId": "cceddbad-ead5-4a99-e962-8b5a2ff119a7"
      },
      "execution_count": 3,
      "outputs": [
        {
          "output_type": "stream",
          "name": "stdout",
          "text": [
            "✅ Mensaje enviado con ID: 14042639305058040\n",
            "📤 Datos enviados:\n",
            "{\n",
            "  \"sale_id\": 844954,\n",
            "  \"store_id\": 931781,\n",
            "  \"product_id\": \"P-002\",\n",
            "  \"customer_id\": 350611,\n",
            "  \"quantity\": 100,\n",
            "  \"sale_date\": \"2025-03-31\",\n",
            "  \"total_sale_value\": 77450.0\n",
            "}\n"
          ]
        }
      ]
    }
  ],
  "metadata": {
    "accelerator": "GPU",
    "colab": {
      "collapsed_sections": [
        "6PK5oU-pvpR1",
        "S39cZHiIwIM9"
      ],
      "gpuType": "T4",
      "provenance": []
    },
    "kernelspec": {
      "display_name": "Python 3",
      "name": "python3"
    },
    "language_info": {
      "name": "python"
    }
  },
  "nbformat": 4,
  "nbformat_minor": 0
}